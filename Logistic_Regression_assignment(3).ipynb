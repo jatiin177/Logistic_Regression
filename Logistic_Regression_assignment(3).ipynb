{
 "cells": [
  {
   "cell_type": "code",
   "execution_count": null,
   "id": "c8a06582-de57-4e5e-a386-215ec94e8535",
   "metadata": {},
   "outputs": [],
   "source": [
    "######################################### Logistic Regression assignment  #############################################################"
   ]
  },
  {
   "cell_type": "code",
   "execution_count": null,
   "id": "d982abda-2363-4bce-a4eb-5ef1e3165f24",
   "metadata": {},
   "outputs": [],
   "source": [
    "*****************************************   Theortical questions  ***********************************************************************"
   ]
  },
  {
   "cell_type": "code",
   "execution_count": null,
   "id": "60e25ac5-70e7-4211-92ba-8190d0664a8a",
   "metadata": {},
   "outputs": [],
   "source": [
    "Q1. What is Logistic Regression, and how does it differ from Linear Regression?\n",
    "Ans- Logistic Regression is a machine learning algorithm used to predict categories, especially yes/no or 0/1 outcomes.\n",
    "     Logistic Regression and Linear Regression are both supervised learning algorithms used in machine learning, but they are used for different types of       problems and have different mathematical foundations."
   ]
  },
  {
   "cell_type": "code",
   "execution_count": null,
   "id": "8d375343-34ca-43a1-b650-d7f1639b172c",
   "metadata": {},
   "outputs": [],
   "source": [
    "Q2. What is the mathematical equation of Logistic Regression?\n",
    "Ans- The mathematical equation of Logistic Regression is given by: p = 1 / (1 + e^(-z)), where p is the probability, e is the base of the natural               logarithm, and z is a linear combination of the features."
   ]
  },
  {
   "cell_type": "code",
   "execution_count": null,
   "id": "4753dc6a-ddf2-446a-94ef-d24b3f08ceeb",
   "metadata": {},
   "outputs": [],
   "source": [
    "3. Why do we use the Sigmoid function in Logistic Regression?\n",
    "Ans- The Sigmoid function is used in Logistic Regression because it maps any real number to a value between 0 and 1, making it suitable for binary              classification tasks."
   ]
  },
  {
   "cell_type": "code",
   "execution_count": null,
   "id": "ee2073c5-307a-4fe8-bdfc-b589352e597c",
   "metadata": {},
   "outputs": [],
   "source": [
    "4. What is the cost function of Logistic Regression?\n",
    "ANs- The cost function of Logistic Regression is the Log Loss function, which measures the difference between the predicted probabilities and \n",
    "     the actual labels."
   ]
  },
  {
   "cell_type": "code",
   "execution_count": null,
   "id": "921d825f-be55-436b-81df-c4081e0ef04f",
   "metadata": {},
   "outputs": [],
   "source": [
    "5. What is Regularization in Logistic Regression? Why is it needed?\n",
    "ANs- Regularization in Logistic Regression is a technique used to prevent overfitting by adding a penalty term to the cost function. \n",
    "     It is needed to reduce the complexity of the model and improve its generalization performance."
   ]
  },
  {
   "cell_type": "code",
   "execution_count": null,
   "id": "c1ca0f17-8668-41b8-b69d-fc4318a4f6f5",
   "metadata": {},
   "outputs": [],
   "source": [
    "6. Explain the difference between Lasso, Ridge, and Elastic Net regression.\n",
    "Ans-  Lasso regression uses L1 regularization, Ridge regression uses L2 regularization, and Elastic Net regression uses a combination of \n",
    "      both L1 and L2 regularization."
   ]
  },
  {
   "cell_type": "code",
   "execution_count": null,
   "id": "f4cda548-2b6c-406a-8a6e-26c35769a69a",
   "metadata": {},
   "outputs": [],
   "source": [
    "7. When should we use Elastic Net instead of Lasso or Ridge?\n",
    "Ans- Elastic Net is useful when there are multiple features that are correlated with each other. It can handle both sparse and dense models."
   ]
  },
  {
   "cell_type": "code",
   "execution_count": null,
   "id": "fa38bfe7-6328-473c-8cde-13086371369f",
   "metadata": {},
   "outputs": [],
   "source": [
    "8. What is the impact of the regularization parameter (1) in Logistic Regression?\n",
    "Ans- The regularization parameter C controls the strength of the regularization. A small value of C means stronger regularization, \n",
    "     while a large value of C means weaker regularization."
   ]
  },
  {
   "cell_type": "code",
   "execution_count": null,
   "id": "3ee206d0-f080-4c55-a114-52dc8182d75e",
   "metadata": {},
   "outputs": [],
   "source": [
    "9. What are the key assumptions of Logistic Regression?\n",
    "ANs- The key assumptions of Logistic Regression are independence of observations, linearity of the logit, and absence of multicollinearity."
   ]
  },
  {
   "cell_type": "code",
   "execution_count": null,
   "id": "4b45818f-9de9-4cc8-ae33-04990b3bde11",
   "metadata": {},
   "outputs": [],
   "source": [
    "10. What are some alternatives to Logistic Regression for classification tasks?\n",
    "ANs- Some alternatives to Logistic Regression are Decision Trees, Random Forest, Support Vector Machines (SVMs), and Neural Networks."
   ]
  },
  {
   "cell_type": "code",
   "execution_count": null,
   "id": "3be2c58c-794e-4f27-bc42-02e751cfa1a9",
   "metadata": {},
   "outputs": [],
   "source": [
    "11. What are Classification Evaluation Metrics?\n",
    "ANs- Classification Evaluation Metrics include accuracy, precision, recall, F1-score, and ROC-AUC score."
   ]
  },
  {
   "cell_type": "code",
   "execution_count": null,
   "id": "abc35485-9449-49c5-9c4f-1468441d9a05",
   "metadata": {},
   "outputs": [],
   "source": [
    "12. How does class imbalance affect Logistic Regression?\n",
    "ANs- Class imbalance can affect Logistic Regression by biasing the model towards the majority class."
   ]
  },
  {
   "cell_type": "code",
   "execution_count": null,
   "id": "98d3afa0-fdbb-4688-a477-71c9dc772ba4",
   "metadata": {},
   "outputs": [],
   "source": [
    "13. What is Hyperparameter Tuning in Logistic Regression?\n",
    "Ans- Hyperparameter Tuning in Logistic Regression involves finding the optimal values of the hyperparameters, such as the regularization parameter C."
   ]
  },
  {
   "cell_type": "code",
   "execution_count": null,
   "id": "70aac9c9-2e60-4cb3-9769-c161f6c81651",
   "metadata": {},
   "outputs": [],
   "source": [
    "14. What are different solvers in Logistic Regression? Which one should be used?\n",
    "Ans- Some popular solvers for Logistic Regression are liblinear, saga, and lbfgs. The choice of solver depends on the specific problem and dataset."
   ]
  },
  {
   "cell_type": "code",
   "execution_count": null,
   "id": "459180d0-7b08-486c-9e11-14860e68c036",
   "metadata": {},
   "outputs": [],
   "source": [
    "15. How is Logistic Regression extended for multiclass classification?\n",
    "Ans- Logistic Regression can be extended for multiclass classification using techniques such as One-vs-Rest (OvR) and Softmax Regression."
   ]
  },
  {
   "cell_type": "code",
   "execution_count": null,
   "id": "7bf3cfa0-311e-4049-8c62-d4283c262f37",
   "metadata": {},
   "outputs": [],
   "source": [
    "16. What are the advantages and disadvantages of Logistic Regression?\n",
    "Ans- Advantages of Logistic Regression include its simplicity, interpretability, and efficiency. Disadvantages include its assumption of linearity and its sensitivity to outliers."
   ]
  },
  {
   "cell_type": "code",
   "execution_count": null,
   "id": "3a2f4b6e-bc9f-47cb-aab7-f9d300121aa7",
   "metadata": {},
   "outputs": [],
   "source": [
    "17. What are some use cases of Logistic Regression?\n",
    "Ans- Logistic Regression can be used for credit risk assessment, medical diagnosis, and customer churn prediction."
   ]
  },
  {
   "cell_type": "code",
   "execution_count": null,
   "id": "f08f7636-9212-4edc-9f21-38392086c369",
   "metadata": {},
   "outputs": [],
   "source": [
    "18. What is the difference between Softmax Regression and Logistic Regression?\n",
    "Ans- Softmax Regression is an extension of Logistic Regression to multiclass classification problems."
   ]
  },
  {
   "cell_type": "code",
   "execution_count": null,
   "id": "d22bea37-c334-4a09-847b-25e3a3c777d7",
   "metadata": {},
   "outputs": [],
   "source": [
    "19. How do we choose between One-vs-Rest (OvR) and Softmax for multiclass classification?\n",
    "Ans-  The choice between OvR and Softmax depends on the specific problem and dataset."
   ]
  },
  {
   "cell_type": "code",
   "execution_count": null,
   "id": "2aebd75f-a4c7-45d6-9ae5-548ba2980829",
   "metadata": {},
   "outputs": [],
   "source": [
    "20. How do we interpret coefficients in Logistic Regression?\n",
    "Ans-  The coefficients in Logistic Regression represent the change in the log odds of the outcome variable for a one-unit change in the predictor variable."
   ]
  },
  {
   "cell_type": "code",
   "execution_count": null,
   "id": "c425148d-365c-4bdf-9529-cba755e12fdc",
   "metadata": {},
   "outputs": [],
   "source": [
    "*******************************************************  Practical Questions  ***********************************************************************"
   ]
  },
  {
   "cell_type": "code",
   "execution_count": null,
   "id": "a285ae26-4ab9-4376-a0a1-4520868f8a5e",
   "metadata": {},
   "outputs": [],
   "source": [
    "1. Write a Python program that loads a dataset, splits it into training and testing sets, applies Logistic Regression, and prints the model accuracy."
   ]
  },
  {
   "cell_type": "code",
   "execution_count": 7,
   "id": "7d93a1f7-ec9d-4147-8ea8-8bc3cb86e15a",
   "metadata": {},
   "outputs": [
    {
     "name": "stdout",
     "output_type": "stream",
     "text": [
      "Model Accuracy: 100.0 %\n"
     ]
    }
   ],
   "source": [
    "#Answer\n",
    "# Import necessary libraries\n",
    "from sklearn.datasets import load_iris\n",
    "from sklearn.model_selection import train_test_split\n",
    "from sklearn.linear_model import LogisticRegression\n",
    "from sklearn.metrics import accuracy_score\n",
    "\n",
    "\n",
    "iris = load_iris()  # Load the dataset\n",
    "X = iris.data  # Features\n",
    "y = iris.target  # Labels\n",
    "\n",
    "X_train, X_test, y_train, y_test = train_test_split(X, y, test_size=0.2, random_state=42)  #Split into training and testing sets\n",
    "\n",
    "\n",
    "model = LogisticRegression(max_iter=200)  #Create and train the Logistic Regression model\n",
    "model.fit(X_train, y_train)\n",
    "\n",
    "y_pred = model.predict(X_test)   # Make predictions on the test set\n",
    "\n",
    "accuracy = accuracy_score(y_test, y_pred)  # Calculate and print the accuracy\n",
    "print(\"Model Accuracy:\", round(accuracy * 100, 2), \"%\")\n"
   ]
  },
  {
   "cell_type": "code",
   "execution_count": null,
   "id": "207d834f-4e71-48bf-8821-7367f047cd07",
   "metadata": {},
   "outputs": [],
   "source": [
    "2. Write a Python program to apply Ll regularization (Lasso) on a dataset using LogisticRegression(penalty='1') and print the model accuracy."
   ]
  },
  {
   "cell_type": "code",
   "execution_count": 29,
   "id": "51dc51e6-09f6-4788-b628-aeb69cb66d03",
   "metadata": {},
   "outputs": [
    {
     "name": "stdout",
     "output_type": "stream",
     "text": [
      "Model Accuracy with L1 Regularization: 100.0 %\n"
     ]
    }
   ],
   "source": [
    "#Answer\n",
    "\n",
    "from sklearn.datasets import load_iris\n",
    "from sklearn.model_selection import train_test_split\n",
    "from sklearn.linear_model import LogisticRegression\n",
    "from sklearn.metrics import accuracy_score\n",
    "from sklearn.preprocessing import StandardScaler\n",
    "\n",
    "# Load dataset\n",
    "iris = load_iris()\n",
    "X = iris.data\n",
    "y = iris.target\n",
    "\n",
    "# Scale features (important for convergence)\n",
    "scaler = StandardScaler()\n",
    "X_scaled = scaler.fit_transform(X)\n",
    "\n",
    "# Split dataset\n",
    "X_train, X_test, y_train, y_test = train_test_split(X_scaled, y, test_size=0.2, random_state=42)\n",
    "\n",
    "# Train Logistic Regression with L1 regularization and higher max_iter\n",
    "model = LogisticRegression(penalty='l1', solver='saga', max_iter=1000)\n",
    "model.fit(X_train, y_train)\n",
    "\n",
    "# Predict and evaluate\n",
    "y_pred = model.predict(X_test)\n",
    "accuracy = accuracy_score(y_test, y_pred)\n",
    "\n",
    "print(\"Model Accuracy with L1 Regularization:\", round(accuracy * 100, 2), \"%\")\n"
   ]
  },
  {
   "cell_type": "code",
   "execution_count": null,
   "id": "fc3d99cd-d3e3-4405-96a9-3b50173816b9",
   "metadata": {},
   "outputs": [],
   "source": [
    "3. Write a Python program to train Logistic Regression with L2 regularization (Ridge) using LogisticRegression(penalty=12). Print model accuracy and coefficients."
   ]
  },
  {
   "cell_type": "code",
   "execution_count": 23,
   "id": "6a770d3b-34fe-4a66-af8d-410d002ad9f8",
   "metadata": {},
   "outputs": [
    {
     "name": "stdout",
     "output_type": "stream",
     "text": [
      "Model Accuracy with L2 Regularization: 100.0 %\n",
      "\n",
      "Model Coefficients:\n",
      "[[-0.39339961  0.96258869 -2.37510705 -0.99874611]\n",
      " [ 0.5084024  -0.25486663 -0.21301372 -0.77575531]\n",
      " [-0.11500279 -0.70772206  2.58812078  1.77450141]]\n"
     ]
    }
   ],
   "source": [
    "from sklearn.datasets import load_iris\n",
    "from sklearn.model_selection import train_test_split\n",
    "from sklearn.linear_model import LogisticRegression\n",
    "from sklearn.metrics import accuracy_score\n",
    "\n",
    "# 1. Load dataset\n",
    "iris = load_iris()\n",
    "X = iris.data\n",
    "y = iris.target\n",
    "\n",
    "# 2. Split dataset into train and test sets\n",
    "X_train, X_test, y_train, y_test = train_test_split(X, y, test_size=0.2, random_state=42)\n",
    "\n",
    "# 3. Train Logistic Regression with L2 regularization (Ridge)\n",
    "model = LogisticRegression(penalty='l2', solver='lbfgs', max_iter=200)  # Removed multi_class\n",
    "model.fit(X_train, y_train)\n",
    "\n",
    "# 4. Predict and evaluate\n",
    "y_pred = model.predict(X_test)\n",
    "accuracy = accuracy_score(y_test, y_pred)\n",
    "\n",
    "# 5. Print accuracy and coefficients\n",
    "print(\"Model Accuracy with L2 Regularization:\", round(accuracy * 100, 2), \"%\")\n",
    "print(\"\\nModel Coefficients:\")\n",
    "print(model.coef_)\n"
   ]
  },
  {
   "cell_type": "code",
   "execution_count": null,
   "id": "3c5c13bd-7cba-4800-8659-1eb899fc9906",
   "metadata": {},
   "outputs": [],
   "source": [
    "4. Write a Python program to train Logistic Regression with Elastic Net Regularization (penalty='elasticnet)."
   ]
  },
  {
   "cell_type": "code",
   "execution_count": 33,
   "id": "7d56f36e-6cbf-424f-923e-f615ac0696b4",
   "metadata": {},
   "outputs": [
    {
     "name": "stdout",
     "output_type": "stream",
     "text": [
      "Model Accuracy with Elastic Net Regularization: 100.0 %\n"
     ]
    }
   ],
   "source": [
    "#Answer\n",
    "\n",
    "from sklearn.datasets import load_iris\n",
    "from sklearn.model_selection import train_test_split\n",
    "from sklearn.linear_model import LogisticRegression\n",
    "from sklearn.metrics import accuracy_score\n",
    "from sklearn.preprocessing import StandardScaler\n",
    "\n",
    "# Load dataset\n",
    "iris = load_iris()\n",
    "X = iris.data\n",
    "y = iris.target\n",
    "\n",
    "# Scale features for better convergence\n",
    "scaler = StandardScaler()\n",
    "X_scaled = scaler.fit_transform(X)\n",
    "\n",
    "# Split dataset into training and testing sets\n",
    "X_train, X_test, y_train, y_test = train_test_split(X_scaled, y, test_size=0.2, random_state=42)\n",
    "\n",
    "# Create Logistic Regression model with Elastic Net regularization\n",
    "model = LogisticRegression(\n",
    "    penalty='elasticnet', \n",
    "    solver='saga', \n",
    "    l1_ratio=0.5,     # 0 = L2 only, 1 = L1 only, 0.5 = mix of both\n",
    "    max_iter=1000\n",
    ")\n",
    "\n",
    "# Train the model\n",
    "model.fit(X_train, y_train)\n",
    "\n",
    "# Predict on the test set\n",
    "y_pred = model.predict(X_test)\n",
    "\n",
    "# Calculate and print accuracy\n",
    "accuracy = accuracy_score(y_test, y_pred)\n",
    "print(\"Model Accuracy with Elastic Net Regularization:\", round(accuracy * 100, 2), \"%\")\n"
   ]
  },
  {
   "cell_type": "code",
   "execution_count": null,
   "id": "0add1d21-47e4-4b4e-ab1b-ad432348bec5",
   "metadata": {},
   "outputs": [],
   "source": [
    "5. Write a Python program to train a Logistic Regression model for multiclass classification using multi_class=ovr"
   ]
  },
  {
   "cell_type": "code",
   "execution_count": 37,
   "id": "a8732a1b-d857-4c32-b35d-0eebd9ca8ce6",
   "metadata": {},
   "outputs": [
    {
     "name": "stdout",
     "output_type": "stream",
     "text": [
      "Model Accuracy with One-vs-Rest (OvR): 96.67 %\n"
     ]
    }
   ],
   "source": [
    "from sklearn.datasets import load_iris\n",
    "from sklearn.model_selection import train_test_split\n",
    "from sklearn.linear_model import LogisticRegression\n",
    "from sklearn.multiclass import OneVsRestClassifier\n",
    "from sklearn.preprocessing import StandardScaler\n",
    "from sklearn.metrics import accuracy_score\n",
    "\n",
    "iris = load_iris()\n",
    "X = iris.data\n",
    "y = iris.target\n",
    "\n",
    "scaler = StandardScaler()\n",
    "X_scaled = scaler.fit_transform(X)\n",
    "\n",
    "X_train, X_test, y_train, y_test = train_test_split(X_scaled, y, test_size=0.2, random_state=42)\n",
    "\n",
    "# Wrap LogisticRegression in OneVsRestClassifier for OvR strategy\n",
    "model = OneVsRestClassifier(LogisticRegression(solver='liblinear', max_iter=200))\n",
    "\n",
    "model.fit(X_train, y_train)\n",
    "\n",
    "y_pred = model.predict(X_test)\n",
    "accuracy = accuracy_score(y_test, y_pred)\n",
    "\n",
    "print(\"Model Accuracy with One-vs-Rest (OvR):\", round(accuracy * 100, 2), \"%\")\n"
   ]
  },
  {
   "cell_type": "code",
   "execution_count": null,
   "id": "815d6be0-3b38-45a6-ac93-0e76115bcd1f",
   "metadata": {},
   "outputs": [],
   "source": [
    "6. Write a Python program to apply GridSearchCV to tune the hyperparameters (C and penalty) of Logistic Regression. Print the best parameters and accuracy."
   ]
  },
  {
   "cell_type": "code",
   "execution_count": 43,
   "id": "0045e897-a0a8-4249-ac8d-088ee8944afe",
   "metadata": {},
   "outputs": [
    {
     "name": "stdout",
     "output_type": "stream",
     "text": [
      "Best Parameters: {'C': 1, 'penalty': 'l1'}\n",
      "Test Accuracy with Best Parameters: 100.0 %\n"
     ]
    }
   ],
   "source": [
    "from sklearn.datasets import load_iris\n",
    "from sklearn.model_selection import train_test_split, GridSearchCV\n",
    "from sklearn.linear_model import LogisticRegression\n",
    "from sklearn.preprocessing import StandardScaler\n",
    "from sklearn.metrics import accuracy_score\n",
    "\n",
    "iris = load_iris()\n",
    "X = iris.data\n",
    "y = iris.target\n",
    "\n",
    "scaler = StandardScaler()\n",
    "X_scaled = scaler.fit_transform(X)\n",
    "\n",
    "X_train, X_test, y_train, y_test = train_test_split(X_scaled, y, test_size=0.2, random_state=42)\n",
    "\n",
    "model = LogisticRegression(solver='saga', max_iter=5000)\n",
    "\n",
    "param_grid = {\n",
    "    'C': [0.1, 1, 10],       # smaller range for faster search\n",
    "    'penalty': ['l1', 'l2']\n",
    "}\n",
    "\n",
    "grid_search = GridSearchCV(model, param_grid, cv=3, scoring='accuracy')  # fewer folds\n",
    "\n",
    "grid_search.fit(X_train, y_train)\n",
    "\n",
    "best_model = grid_search.best_estimator_\n",
    "y_pred = best_model.predict(X_test)\n",
    "accuracy = accuracy_score(y_test, y_pred)\n",
    "\n",
    "print(\"Best Parameters:\", grid_search.best_params_)\n",
    "print(\"Test Accuracy with Best Parameters:\", round(accuracy * 100, 2), \"%\")\n"
   ]
  },
  {
   "cell_type": "code",
   "execution_count": null,
   "id": "c138c144-59ac-4e30-95bb-f317660fc618",
   "metadata": {},
   "outputs": [],
   "source": [
    "7. Write a Python program to evaluate Logistic Regression using Stratified K-Fold Cross-Validation. Print the average accuracy."
   ]
  },
  {
   "cell_type": "code",
   "execution_count": 45,
   "id": "23f6d926-5117-4f71-9e24-ca0a574787f2",
   "metadata": {},
   "outputs": [
    {
     "name": "stdout",
     "output_type": "stream",
     "text": [
      "Accuracy scores for each fold: [1.     0.9667 0.9    1.     0.9   ]\n",
      "Average accuracy: 95.33 %\n"
     ]
    }
   ],
   "source": [
    "from sklearn.datasets import load_iris\n",
    "from sklearn.linear_model import LogisticRegression\n",
    "from sklearn.model_selection import StratifiedKFold, cross_val_score\n",
    "from sklearn.preprocessing import StandardScaler\n",
    "from sklearn.pipeline import make_pipeline\n",
    "import numpy as np\n",
    "\n",
    "iris = load_iris()\n",
    "X = iris.data\n",
    "y = iris.target\n",
    "\n",
    "# Create a pipeline to scale data and apply logistic regression\n",
    "model = make_pipeline(\n",
    "    StandardScaler(),\n",
    "    LogisticRegression(solver='lbfgs', max_iter=1000)\n",
    ")\n",
    "\n",
    "# Stratified K-Fold with 5 splits\n",
    "skf = StratifiedKFold(n_splits=5, shuffle=True, random_state=42)\n",
    "\n",
    "# Evaluate using cross_val_score (accuracy)\n",
    "scores = cross_val_score(model, X, y, cv=skf, scoring='accuracy')\n",
    "\n",
    "print(\"Accuracy scores for each fold:\", np.round(scores, 4))\n",
    "print(\"Average accuracy:\", round(np.mean(scores) * 100, 2), \"%\")\n"
   ]
  },
  {
   "cell_type": "code",
   "execution_count": null,
   "id": "060f5dca-c3e3-4133-b7f2-f8210b209c3b",
   "metadata": {},
   "outputs": [],
   "source": [
    "8. Write a Python program to load a dataset from a CSV file, apply Logistic Regression, and evaluate its accuracy."
   ]
  },
  {
   "cell_type": "code",
   "execution_count": null,
   "id": "6f7679a9-fa46-4fcf-92d8-4e8148b96539",
   "metadata": {},
   "outputs": [],
   "source": [
    "import pandas as pd\n",
    "from sklearn.model_selection import train_test_split\n",
    "from sklearn.linear_model import LogisticRegression\n",
    "from sklearn.metrics import accuracy_score\n",
    "\n",
    "df = pd.read_csv('your_dataset.csv')\n",
    "X = df.drop('target', axis=1)\n",
    "y = df['target']\n",
    "\n",
    "X_train, X_test, y_train, y_test = train_test_split(X, y, test_size=0.2, random_state=42)\n",
    "\n",
    "model = LogisticRegression()\n",
    "model.fit(X_train, y_train)\n",
    "\n",
    "y_pred = model.predict(X_test)\n",
    "print(f'Accuracy: {accuracy_score(y_test, y_pred):.2f}')"
   ]
  },
  {
   "cell_type": "code",
   "execution_count": null,
   "id": "f4de6f8b-e9f7-46f9-8394-2af8a5e9fe3c",
   "metadata": {},
   "outputs": [],
   "source": [
    "9. Write a Python program to apply Randomized SearchCV for tuning hyperparameters (C, penalty, solver) in Logistic Regression. Print the best parameters and accuracy."
   ]
  },
  {
   "cell_type": "code",
   "execution_count": 62,
   "id": "ef40c134-0391-417c-a238-7a5014b50388",
   "metadata": {},
   "outputs": [
    {
     "name": "stdout",
     "output_type": "stream",
     "text": [
      "Best Parameters: {'C': 3.2861719474409314, 'l1_ratio': 0.9, 'penalty': 'elasticnet', 'solver': 'saga'}\n",
      "Test Accuracy with Best Parameters: 100.0 %\n"
     ]
    }
   ],
   "source": [
    "from sklearn.datasets import load_iris\n",
    "from sklearn.model_selection import train_test_split, RandomizedSearchCV\n",
    "from sklearn.linear_model import LogisticRegression\n",
    "from sklearn.preprocessing import StandardScaler\n",
    "from sklearn.metrics import accuracy_score\n",
    "from scipy.stats import uniform\n",
    "import numpy as np\n",
    "\n",
    "# Load and prepare data\n",
    "iris = load_iris()\n",
    "X = iris.data\n",
    "y = iris.target\n",
    "\n",
    "scaler = StandardScaler()\n",
    "X_scaled = scaler.fit_transform(X)\n",
    "\n",
    "X_train, X_test, y_train, y_test = train_test_split(X_scaled, y, test_size=0.2, random_state=42)\n",
    "\n",
    "# Custom parameter grid with valid solver-penalty combos\n",
    "param_dist = [\n",
    "    {'penalty': ['l1'], 'solver': ['liblinear', 'saga'], 'C': uniform(loc=0.1, scale=4)},\n",
    "    {'penalty': ['l2'], 'solver': ['lbfgs', 'liblinear', 'newton-cg', 'sag', 'saga'], 'C': uniform(loc=0.1, scale=4)},\n",
    "    {'penalty': ['elasticnet'], 'solver': ['saga'], 'C': uniform(loc=0.1, scale=4), 'l1_ratio': [0.5, 0.7, 0.9]},\n",
    "    {'penalty': [None], 'solver': ['lbfgs', 'newton-cg', 'sag', 'saga'], 'C': uniform(loc=0.1, scale=4)}\n",
    "]\n",
    "\n",
    "model = LogisticRegression(max_iter=5000)\n",
    "\n",
    "random_search = RandomizedSearchCV(\n",
    "    model,\n",
    "    param_distributions=param_dist,\n",
    "    n_iter=20,\n",
    "    cv=3,\n",
    "    scoring='accuracy',\n",
    "    random_state=42,\n",
    "    n_jobs=-1,\n",
    "    refit=True\n",
    ")\n",
    "\n",
    "random_search.fit(X_train, y_train)\n",
    "\n",
    "best_model = random_search.best_estimator_\n",
    "y_pred = best_model.predict(X_test)\n",
    "accuracy = accuracy_score(y_test, y_pred)\n",
    "\n",
    "print(\"Best Parameters:\", random_search.best_params_)\n",
    "print(\"Test Accuracy with Best Parameters:\", round(accuracy * 100, 2), \"%\")\n"
   ]
  },
  {
   "cell_type": "code",
   "execution_count": null,
   "id": "210cf47a-98e3-4ef3-a2f6-bb2c369ab664",
   "metadata": {},
   "outputs": [],
   "source": [
    "10. Write a Python program to implement One-vs-One (OvO) Multiclass Logistic Regression and print accuracy."
   ]
  },
  {
   "cell_type": "code",
   "execution_count": 64,
   "id": "aa663203-d925-4640-aac5-0e3f67e3ce4e",
   "metadata": {},
   "outputs": [
    {
     "name": "stdout",
     "output_type": "stream",
     "text": [
      "Accuracy of One-vs-One Logistic Regression: 100.0 %\n"
     ]
    }
   ],
   "source": [
    "from sklearn.datasets import load_iris\n",
    "from sklearn.model_selection import train_test_split\n",
    "from sklearn.linear_model import LogisticRegression\n",
    "from sklearn.multiclass import OneVsOneClassifier\n",
    "from sklearn.preprocessing import StandardScaler\n",
    "from sklearn.metrics import accuracy_score\n",
    "\n",
    "# Load dataset\n",
    "iris = load_iris()\n",
    "X = iris.data\n",
    "y = iris.target\n",
    "\n",
    "# Scale features\n",
    "scaler = StandardScaler()\n",
    "X_scaled = scaler.fit_transform(X)\n",
    "\n",
    "# Split into train and test sets\n",
    "X_train, X_test, y_train, y_test = train_test_split(\n",
    "    X_scaled, y, test_size=0.2, random_state=42)\n",
    "\n",
    "# Create OvO Logistic Regression classifier\n",
    "ovo_clf = OneVsOneClassifier(LogisticRegression(max_iter=5000))\n",
    "\n",
    "# Train model\n",
    "ovo_clf.fit(X_train, y_train)\n",
    "\n",
    "# Predict on test set\n",
    "y_pred = ovo_clf.predict(X_test)\n",
    "\n",
    "# Calculate accuracy\n",
    "accuracy = accuracy_score(y_test, y_pred)\n",
    "\n",
    "print(\"Accuracy of One-vs-One Logistic Regression:\", round(accuracy * 100, 2), \"%\")\n"
   ]
  },
  {
   "cell_type": "code",
   "execution_count": null,
   "id": "13cbc372-13d7-4c2c-94f6-900a27a767ff",
   "metadata": {},
   "outputs": [],
   "source": [
    "11. Write a Python program to train a Logistic Regression model and visualize the confusion matrix for binary classification."
   ]
  },
  {
   "cell_type": "code",
   "execution_count": 66,
   "id": "40c8ad83-e793-4e23-8a41-75add88dde87",
   "metadata": {},
   "outputs": [
    {
     "name": "stdout",
     "output_type": "stream",
     "text": [
      "Accuracy: 100.00%\n"
     ]
    },
    {
     "data": {
      "image/png": "[encoded data removed]",
      "text/plain": [
       "<Figure size 600x400 with 1 Axes>"
      ]
     },
     "metadata": {},
     "output_type": "display_data"
    }
   ],
   "source": [
    "import matplotlib.pyplot as plt\n",
    "import seaborn as sns\n",
    "from sklearn.datasets import load_iris\n",
    "from sklearn.linear_model import LogisticRegression\n",
    "from sklearn.model_selection import train_test_split\n",
    "from sklearn.metrics import confusion_matrix, accuracy_score\n",
    "from sklearn.preprocessing import StandardScaler\n",
    "\n",
    "# Load Iris dataset and keep only two classes for binary classification\n",
    "iris = load_iris()\n",
    "X = iris.data[iris.target != 2]  # Take classes 0 and 1 only\n",
    "y = iris.target[iris.target != 2]\n",
    "\n",
    "# Scale features\n",
    "scaler = StandardScaler()\n",
    "X_scaled = scaler.fit_transform(X)\n",
    "\n",
    "# Split into train and test sets\n",
    "X_train, X_test, y_train, y_test = train_test_split(\n",
    "    X_scaled, y, test_size=0.2, random_state=42)\n",
    "\n",
    "# Train Logistic Regression model\n",
    "model = LogisticRegression(max_iter=1000)\n",
    "model.fit(X_train, y_train)\n",
    "\n",
    "# Predict on test data\n",
    "y_pred = model.predict(X_test)\n",
    "\n",
    "# Calculate accuracy\n",
    "accuracy = accuracy_score(y_test, y_pred)\n",
    "print(f\"Accuracy: {accuracy*100:.2f}%\")\n",
    "\n",
    "# Compute confusion matrix\n",
    "cm = confusion_matrix(y_test, y_pred)\n",
    "\n",
    "# Plot confusion matrix using seaborn heatmap\n",
    "plt.figure(figsize=(6,4))\n",
    "sns.heatmap(cm, annot=True, fmt='d', cmap='Blues', cbar=False,\n",
    "            xticklabels=['Predicted 0', 'Predicted 1'],\n",
    "            yticklabels=['Actual 0', 'Actual 1'])\n",
    "plt.title('Confusion Matrix')\n",
    "plt.ylabel('True Label')\n",
    "plt.xlabel('Predicted Label')\n",
    "plt.show()\n"
   ]
  },
  {
   "cell_type": "code",
   "execution_count": null,
   "id": "a50e52dc-4740-4df3-9610-369ea87962b8",
   "metadata": {},
   "outputs": [],
   "source": [
    "12. Write a Python program to train a Logistic Regression model and evaluate its performance using Precision, Recall, and FI-Score."
   ]
  },
  {
   "cell_type": "code",
   "execution_count": 68,
   "id": "1cc8431f-174a-438b-8f87-1d36a3ec8d26",
   "metadata": {},
   "outputs": [
    {
     "name": "stdout",
     "output_type": "stream",
     "text": [
      "Precision: 1.00\n",
      "Recall: 1.00\n",
      "F1-Score: 1.00\n"
     ]
    }
   ],
   "source": [
    "from sklearn.datasets import load_iris\n",
    "from sklearn.linear_model import LogisticRegression\n",
    "from sklearn.model_selection import train_test_split\n",
    "from sklearn.preprocessing import StandardScaler\n",
    "from sklearn.metrics import precision_score, recall_score, f1_score\n",
    "\n",
    "# Load Iris dataset and filter to binary classes (0 and 1)\n",
    "iris = load_iris()\n",
    "X = iris.data[iris.target != 2]  # only classes 0 and 1\n",
    "y = iris.target[iris.target != 2]\n",
    "\n",
    "# Scale features\n",
    "scaler = StandardScaler()\n",
    "X_scaled = scaler.fit_transform(X)\n",
    "\n",
    "# Split dataset into train and test sets\n",
    "X_train, X_test, y_train, y_test = train_test_split(\n",
    "    X_scaled, y, test_size=0.2, random_state=42)\n",
    "\n",
    "# Train Logistic Regression model\n",
    "model = LogisticRegression(max_iter=1000)\n",
    "model.fit(X_train, y_train)\n",
    "\n",
    "# Predict on test set\n",
    "y_pred = model.predict(X_test)\n",
    "\n",
    "# Calculate Precision, Recall, F1-Score\n",
    "precision = precision_score(y_test, y_pred)\n",
    "recall = recall_score(y_test, y_pred)\n",
    "f1 = f1_score(y_test, y_pred)\n",
    "\n",
    "print(f\"Precision: {precision:.2f}\")\n",
    "print(f\"Recall: {recall:.2f}\")\n",
    "print(f\"F1-Score: {f1:.2f}\")\n"
   ]
  },
  {
   "cell_type": "code",
   "execution_count": null,
   "id": "443cac3e-3354-4954-9988-52263ca53596",
   "metadata": {},
   "outputs": [],
   "source": [
    "13. Write a Python program to train a Logistic Regression model on imbalanced data and apply class weights to improve model performance."
   ]
  },
  {
   "cell_type": "code",
   "execution_count": 70,
   "id": "cd4f6fd0-7279-4e44-b884-9c661ecbdc28",
   "metadata": {},
   "outputs": [
    {
     "name": "stdout",
     "output_type": "stream",
     "text": [
      "Without class weights:\n",
      "              precision    recall  f1-score   support\n",
      "\n",
      "           0       0.99      1.00      0.99       181\n",
      "           1       1.00      0.89      0.94        19\n",
      "\n",
      "    accuracy                           0.99       200\n",
      "   macro avg       0.99      0.95      0.97       200\n",
      "weighted avg       0.99      0.99      0.99       200\n",
      "\n",
      "With class weights (balanced):\n",
      "              precision    recall  f1-score   support\n",
      "\n",
      "           0       0.99      0.91      0.95       181\n",
      "           1       0.53      0.95      0.68        19\n",
      "\n",
      "    accuracy                           0.92       200\n",
      "   macro avg       0.76      0.93      0.82       200\n",
      "weighted avg       0.95      0.92      0.93       200\n",
      "\n"
     ]
    }
   ],
   "source": [
    "from sklearn.datasets import make_classification\n",
    "from sklearn.linear_model import LogisticRegression\n",
    "from sklearn.model_selection import train_test_split\n",
    "from sklearn.preprocessing import StandardScaler\n",
    "from sklearn.metrics import classification_report\n",
    "\n",
    "# Create imbalanced dataset\n",
    "X, y = make_classification(\n",
    "    n_samples=1000,\n",
    "    n_features=10,\n",
    "    n_informative=5,\n",
    "    n_redundant=0,\n",
    "    n_clusters_per_class=1,\n",
    "    weights=[0.9, 0.1],  # 90% of class 0, 10% of class 1 (imbalanced)\n",
    "    random_state=42\n",
    ")\n",
    "\n",
    "# Scale features\n",
    "scaler = StandardScaler()\n",
    "X_scaled = scaler.fit_transform(X)\n",
    "\n",
    "# Split dataset into train and test sets\n",
    "X_train, X_test, y_train, y_test = train_test_split(\n",
    "    X_scaled, y, test_size=0.2, random_state=42\n",
    ")\n",
    "\n",
    "# Train Logistic Regression without class weights\n",
    "model_no_weights = LogisticRegression(max_iter=1000)\n",
    "model_no_weights.fit(X_train, y_train)\n",
    "y_pred_no_weights = model_no_weights.predict(X_test)\n",
    "\n",
    "print(\"Without class weights:\")\n",
    "print(classification_report(y_test, y_pred_no_weights))\n",
    "\n",
    "# Train Logistic Regression with balanced class weights\n",
    "model_balanced = LogisticRegression(class_weight='balanced', max_iter=1000)\n",
    "model_balanced.fit(X_train, y_train)\n",
    "y_pred_balanced = model_balanced.predict(X_test)\n",
    "\n",
    "print(\"With class weights (balanced):\")\n",
    "print(classification_report(y_test, y_pred_balanced))\n"
   ]
  },
  {
   "cell_type": "code",
   "execution_count": null,
   "id": "fd0dc074-12dd-4a7b-b11c-3dfc24cb3901",
   "metadata": {},
   "outputs": [],
   "source": [
    "14. Write a Python program to train Logistic Regression on the Titanic dataset, handle missing values, and evaluate performance."
   ]
  },
  {
   "cell_type": "code",
   "execution_count": null,
   "id": "be54cf20-2a20-4e3c-b366-c97b5ab79615",
   "metadata": {},
   "outputs": [],
   "source": [
    " import pandas as pd\n",
    "from sklearn.model_selection import train_test_split\n",
    "from sklearn.linear_model import LogisticRegression\n",
    "from sklearn.metrics import accuracy_score\n",
    "\n",
    "# Load Titanic dataset\n",
    "df = pd.read_csv(\"C:\\\\Users\\\\USER\\\\Downloads\\\\titanic.csv\")\n",
    "\n",
    "# Preprocess data\n",
    "df = df.drop(['Name', 'Ticket', 'Cabin'], axis=1)\n",
    "df['Age'] = df['Age'].fillna(df['Age'].mean())\n",
    "df['Sex'] = df['Sex'].map({'male': 0, 'female': 1})\n",
    "\n",
    "X = df.drop('Survived', axis=1)\n",
    "y = df['Survived']\n",
    "\n",
    "X_train, X_test, y_train, y_test = train_test_split(X, y, test_size=0.2, random_state=42)\n",
    "\n",
    "model = LogisticRegression()\n",
    "model.fit(X_train, y_train)\n",
    "\n",
    "y_pred = model.predict(X_test)\n",
    "print(f'Accuracy: {accuracy_score(y_test, y_pred):.2f}')"
   ]
  },
  {
   "cell_type": "code",
   "execution_count": null,
   "id": "32f84fe0-9c35-456d-95f4-0e61dd44bb1c",
   "metadata": {},
   "outputs": [],
   "source": [
    "15. Write a Python program to apply feature scaling (Standardization) before training a Logistic Regression model. Evaluate its accuracy and compare results with and without scaling."
   ]
  },
  {
   "cell_type": "code",
   "execution_count": 81,
   "id": "173879b3-fd98-4b8a-84d6-bea76a6c4888",
   "metadata": {},
   "outputs": [
    {
     "name": "stdout",
     "output_type": "stream",
     "text": [
      "Accuracy without Scaling: 95.61%\n",
      "Accuracy with Scaling   : 97.37%\n"
     ]
    }
   ],
   "source": [
    "import pandas as pd\n",
    "from sklearn.datasets import load_breast_cancer\n",
    "from sklearn.linear_model import LogisticRegression\n",
    "from sklearn.model_selection import train_test_split\n",
    "from sklearn.preprocessing import StandardScaler\n",
    "from sklearn.metrics import accuracy_score\n",
    "\n",
    "# Load sample dataset (Breast Cancer)\n",
    "data = load_breast_cancer()\n",
    "X, y = data.data, data.target\n",
    "\n",
    "# Split dataset into train and test sets\n",
    "X_train, X_test, y_train, y_test = train_test_split(\n",
    "    X, y, test_size=0.2, random_state=42)\n",
    "\n",
    "# -------- Model without Scaling --------\n",
    "model_no_scaling = LogisticRegression(max_iter=1000)\n",
    "model_no_scaling.fit(X_train, y_train)\n",
    "y_pred_no_scaling = model_no_scaling.predict(X_test)\n",
    "accuracy_no_scaling = accuracy_score(y_test, y_pred_no_scaling)\n",
    "\n",
    "# -------- Model with Scaling --------\n",
    "scaler = StandardScaler()\n",
    "X_train_scaled = scaler.fit_transform(X_train)\n",
    "X_test_scaled = scaler.transform(X_test)\n",
    "\n",
    "model_scaled = LogisticRegression(max_iter=1000)\n",
    "model_scaled.fit(X_train_scaled, y_train)\n",
    "y_pred_scaled = model_scaled.predict(X_test_scaled)\n",
    "accuracy_scaled = accuracy_score(y_test, y_pred_scaled)\n",
    "\n",
    "# -------- Results --------\n",
    "print(\"Accuracy without Scaling: {:.2f}%\".format(accuracy_no_scaling * 100))\n",
    "print(\"Accuracy with Scaling   : {:.2f}%\".format(accuracy_scaled * 100))\n"
   ]
  },
  {
   "cell_type": "code",
   "execution_count": null,
   "id": "32ca2ef5-d1ba-4845-9def-ac91dccf6a6e",
   "metadata": {},
   "outputs": [],
   "source": [
    "16. Write a Python program to train Logistic Regression and evaluate its performance using ROC-AUC score."
   ]
  },
  {
   "cell_type": "code",
   "execution_count": 83,
   "id": "b7535185-ed2f-4c21-ae34-e117419f8730",
   "metadata": {},
   "outputs": [
    {
     "name": "stdout",
     "output_type": "stream",
     "text": [
      "ROC-AUC Score: 1.00\n"
     ]
    },
    {
     "data": {
      "image/png": "[encoded data removed]",
      "text/plain": [
       "<Figure size 640x480 with 1 Axes>"
      ]
     },
     "metadata": {},
     "output_type": "display_data"
    }
   ],
   "source": [
    "import pandas as pd\n",
    "from sklearn.datasets import load_breast_cancer\n",
    "from sklearn.linear_model import LogisticRegression\n",
    "from sklearn.model_selection import train_test_split\n",
    "from sklearn.preprocessing import StandardScaler\n",
    "from sklearn.metrics import roc_auc_score, roc_curve\n",
    "import matplotlib.pyplot as plt\n",
    "\n",
    "# Load dataset\n",
    "data = load_breast_cancer()\n",
    "X, y = data.data, data.target\n",
    "\n",
    "# Split into train and test sets\n",
    "X_train, X_test, y_train, y_test = train_test_split(\n",
    "    X, y, test_size=0.2, random_state=42)\n",
    "\n",
    "# Feature scaling\n",
    "scaler = StandardScaler()\n",
    "X_train_scaled = scaler.fit_transform(X_train)\n",
    "X_test_scaled = scaler.transform(X_test)\n",
    "\n",
    "# Train Logistic Regression model\n",
    "model = LogisticRegression(max_iter=1000)\n",
    "model.fit(X_train_scaled, y_train)\n",
    "\n",
    "# Predict probabilities\n",
    "y_prob = model.predict_proba(X_test_scaled)[:, 1]\n",
    "\n",
    "# Calculate ROC-AUC score\n",
    "roc_auc = roc_auc_score(y_test, y_prob)\n",
    "print(\"ROC-AUC Score: {:.2f}\".format(roc_auc))\n",
    "\n",
    "# Plot ROC Curve\n",
    "fpr, tpr, _ = roc_curve(y_test, y_prob)\n",
    "plt.plot(fpr, tpr, label=f'ROC Curve (AUC = {roc_auc:.2f})')\n",
    "plt.plot([0, 1], [0, 1], 'k--', label='Random Guess')\n",
    "plt.xlabel('False Positive Rate')\n",
    "plt.ylabel('True Positive Rate')\n",
    "plt.title('ROC Curve for Logistic Regression')\n",
    "plt.legend()\n",
    "plt.grid()\n",
    "plt.show()\n"
   ]
  },
  {
   "cell_type": "code",
   "execution_count": null,
   "id": "5b7aaf0f-83cf-41c1-87eb-19a840848144",
   "metadata": {},
   "outputs": [],
   "source": [
    "17. Write a Python program to train Logistic Regression using a custom learning rate (C=0.5) and evaluate accuracy."
   ]
  },
  {
   "cell_type": "code",
   "execution_count": 85,
   "id": "8cd5a55f-dff6-4528-b4c0-dc8e83206bf4",
   "metadata": {},
   "outputs": [
    {
     "name": "stdout",
     "output_type": "stream",
     "text": [
      "Accuracy with custom learning rate (C=0.5): 100.00%\n"
     ]
    }
   ],
   "source": [
    "import pandas as pd\n",
    "from sklearn.datasets import load_iris\n",
    "from sklearn.linear_model import LogisticRegression\n",
    "from sklearn.model_selection import train_test_split\n",
    "from sklearn.preprocessing import StandardScaler\n",
    "from sklearn.metrics import accuracy_score\n",
    "\n",
    "# Load dataset\n",
    "data = load_iris()\n",
    "X = data.data\n",
    "y = data.target\n",
    "\n",
    "# Split dataset\n",
    "X_train, X_test, y_train, y_test = train_test_split(\n",
    "    X, y, test_size=0.2, random_state=42)\n",
    "\n",
    "# Standardize features\n",
    "scaler = StandardScaler()\n",
    "X_train_scaled = scaler.fit_transform(X_train)\n",
    "X_test_scaled = scaler.transform(X_test)\n",
    "\n",
    "# Train Logistic Regression with custom learning rate (C=0.5)\n",
    "model = LogisticRegression(C=0.5, max_iter=1000, solver='lbfgs', multi_class='auto')\n",
    "model.fit(X_train_scaled, y_train)\n",
    "\n",
    "# Predict and evaluate\n",
    "y_pred = model.predict(X_test_scaled)\n",
    "accuracy = accuracy_score(y_test, y_pred)\n",
    "\n",
    "print(f\"Accuracy with custom learning rate (C=0.5): {accuracy * 100:.2f}%\")\n"
   ]
  },
  {
   "cell_type": "code",
   "execution_count": null,
   "id": "7b117157-8a38-43d5-87f2-9430ea8bf983",
   "metadata": {},
   "outputs": [],
   "source": [
    "18. Write a Python program to train Logistic Regression and identify important features based on model coefficients."
   ]
  },
  {
   "cell_type": "code",
   "execution_count": 87,
   "id": "633363f4-c5c2-498e-9f6f-1cb52190f732",
   "metadata": {},
   "outputs": [
    {
     "name": "stdout",
     "output_type": "stream",
     "text": [
      "Top important features based on Logistic Regression coefficients:\n",
      "\n",
      "worst texture           1.350606\n",
      "radius error            1.268178\n",
      "worst symmetry          1.208200\n",
      "mean concave points     1.119804\n",
      "worst concavity         0.943053\n",
      "area error              0.907186\n",
      "worst radius            0.879840\n",
      "worst area              0.841846\n",
      "mean concavity          0.801458\n",
      "worst concave points    0.778217\n",
      "dtype: float64\n"
     ]
    }
   ],
   "source": [
    "import pandas as pd\n",
    "import numpy as np\n",
    "from sklearn.datasets import load_breast_cancer\n",
    "from sklearn.model_selection import train_test_split\n",
    "from sklearn.linear_model import LogisticRegression\n",
    "from sklearn.preprocessing import StandardScaler\n",
    "\n",
    "# Load dataset\n",
    "data = load_breast_cancer()\n",
    "X = data.data\n",
    "y = data.target\n",
    "feature_names = data.feature_names\n",
    "\n",
    "# Split dataset\n",
    "X_train, X_test, y_train, y_test = train_test_split(X, y, test_size=0.2, random_state=42)\n",
    "\n",
    "# Standardize features\n",
    "scaler = StandardScaler()\n",
    "X_train_scaled = scaler.fit_transform(X_train)\n",
    "X_test_scaled = scaler.transform(X_test)\n",
    "\n",
    "# Train Logistic Regression model\n",
    "model = LogisticRegression(max_iter=1000)\n",
    "model.fit(X_train_scaled, y_train)\n",
    "\n",
    "# Get feature importance from coefficients\n",
    "coefficients = model.coef_[0]\n",
    "feature_importance = pd.Series(coefficients, index=feature_names)\n",
    "\n",
    "# Sort features by importance\n",
    "sorted_features = feature_importance.abs().sort_values(ascending=False)\n",
    "\n",
    "# Display top features\n",
    "print(\"Top important features based on Logistic Regression coefficients:\\n\")\n",
    "print(sorted_features.head(10))\n"
   ]
  },
  {
   "cell_type": "code",
   "execution_count": null,
   "id": "1673d68f-8846-418d-9f2f-16c4ce4dd007",
   "metadata": {},
   "outputs": [],
   "source": [
    "19. Write a Python program to train Logistic Regression and evaluate its performance using Cohen's Kappa Score."
   ]
  },
  {
   "cell_type": "code",
   "execution_count": 89,
   "id": "c1cc7bcd-4241-47f7-8c82-3f260d1d23d0",
   "metadata": {},
   "outputs": [
    {
     "name": "stdout",
     "output_type": "stream",
     "text": [
      "Cohen's Kappa Score: 0.944\n"
     ]
    }
   ],
   "source": [
    "import pandas as pd\n",
    "from sklearn.datasets import load_breast_cancer\n",
    "from sklearn.model_selection import train_test_split\n",
    "from sklearn.linear_model import LogisticRegression\n",
    "from sklearn.metrics import cohen_kappa_score\n",
    "from sklearn.preprocessing import StandardScaler\n",
    "\n",
    "# Load dataset\n",
    "data = load_breast_cancer()\n",
    "X = data.data\n",
    "y = data.target\n",
    "\n",
    "# Split data\n",
    "X_train, X_test, y_train, y_test = train_test_split(X, y, test_size=0.2, random_state=42)\n",
    "\n",
    "# Standardize features\n",
    "scaler = StandardScaler()\n",
    "X_train_scaled = scaler.fit_transform(X_train)\n",
    "X_test_scaled = scaler.transform(X_test)\n",
    "\n",
    "# Train Logistic Regression model\n",
    "model = LogisticRegression(max_iter=1000)\n",
    "model.fit(X_train_scaled, y_train)\n",
    "\n",
    "# Predict on test set\n",
    "y_pred = model.predict(X_test_scaled)\n",
    "\n",
    "# Evaluate using Cohen's Kappa Score\n",
    "kappa_score = cohen_kappa_score(y_test, y_pred)\n",
    "\n",
    "print(\"Cohen's Kappa Score:\", round(kappa_score, 3))\n"
   ]
  },
  {
   "cell_type": "code",
   "execution_count": null,
   "id": "06346278-957a-46d9-a4a4-1164de58e5b2",
   "metadata": {},
   "outputs": [],
   "source": [
    "20. Write a Python program to train Logistic Regression and visualize the Precision-Recall Curve for binary classification"
   ]
  },
  {
   "cell_type": "code",
   "execution_count": 91,
   "id": "f46a3c08-819b-451b-a3a2-23824f7ccb0c",
   "metadata": {},
   "outputs": [
    {
     "data": {
      "image/png": "[encoded data removed]",
      "text/plain": [
       "<Figure size 800x500 with 1 Axes>"
      ]
     },
     "metadata": {},
     "output_type": "display_data"
    }
   ],
   "source": [
    "import pandas as pd\n",
    "import matplotlib.pyplot as plt\n",
    "from sklearn.datasets import load_breast_cancer\n",
    "from sklearn.model_selection import train_test_split\n",
    "from sklearn.linear_model import LogisticRegression\n",
    "from sklearn.metrics import precision_recall_curve, average_precision_score\n",
    "from sklearn.preprocessing import StandardScaler\n",
    "\n",
    "# Load dataset (binary classification)\n",
    "data = load_breast_cancer()\n",
    "X = data.data\n",
    "y = data.target\n",
    "\n",
    "# Split data\n",
    "X_train, X_test, y_train, y_test = train_test_split(X, y, test_size=0.2, random_state=42)\n",
    "\n",
    "# Standardize features\n",
    "scaler = StandardScaler()\n",
    "X_train_scaled = scaler.fit_transform(X_train)\n",
    "X_test_scaled = scaler.transform(X_test)\n",
    "\n",
    "# Train Logistic Regression model\n",
    "model = LogisticRegression(max_iter=1000)\n",
    "model.fit(X_train_scaled, y_train)\n",
    "\n",
    "# Predict probabilities\n",
    "y_scores = model.predict_proba(X_test_scaled)[:, 1]\n",
    "\n",
    "# Calculate Precision-Recall curve\n",
    "precision, recall, _ = precision_recall_curve(y_test, y_scores)\n",
    "avg_precision = average_precision_score(y_test, y_scores)\n",
    "\n",
    "# Plot the Precision-Recall curve\n",
    "plt.figure(figsize=(8, 5))\n",
    "plt.plot(recall, precision, label=f'Average Precision = {avg_precision:.2f}')\n",
    "plt.xlabel('Recall')\n",
    "plt.ylabel('Precision')\n",
    "plt.title('Precision-Recall Curve')\n",
    "plt.legend()\n",
    "plt.grid(True)\n",
    "plt.show()\n"
   ]
  },
  {
   "cell_type": "code",
   "execution_count": null,
   "id": "d621fed4-03e5-41e6-81e3-f7f9fa104598",
   "metadata": {},
   "outputs": [],
   "source": [
    "21. Write a Python program to train Logistic Regression with different solvers (liblinear, saga, lbfgs) and compare their accuracy."
   ]
  },
  {
   "cell_type": "code",
   "execution_count": 93,
   "id": "5b6252ea-de66-44ab-9ce3-d19a5005753f",
   "metadata": {},
   "outputs": [
    {
     "name": "stdout",
     "output_type": "stream",
     "text": [
      "Accuracy comparison of different solvers:\n",
      "\n",
      "Solver: liblinear -> Accuracy: 97.37%\n",
      "Solver: saga -> Accuracy: 97.37%\n",
      "Solver: lbfgs -> Accuracy: 97.37%\n"
     ]
    }
   ],
   "source": [
    "import numpy as np\n",
    "import pandas as pd\n",
    "from sklearn.datasets import load_breast_cancer\n",
    "from sklearn.model_selection import train_test_split\n",
    "from sklearn.linear_model import LogisticRegression\n",
    "from sklearn.preprocessing import StandardScaler\n",
    "from sklearn.metrics import accuracy_score\n",
    "\n",
    "# Load a binary classification dataset\n",
    "data = load_breast_cancer()\n",
    "X = data.data\n",
    "y = data.target\n",
    "\n",
    "# Split dataset\n",
    "X_train, X_test, y_train, y_test = train_test_split(X, y, test_size=0.2, random_state=42)\n",
    "\n",
    "# Standardize features\n",
    "scaler = StandardScaler()\n",
    "X_train_scaled = scaler.fit_transform(X_train)\n",
    "X_test_scaled = scaler.transform(X_test)\n",
    "\n",
    "# Solvers to test\n",
    "solvers = ['liblinear', 'saga', 'lbfgs']\n",
    "results = {}\n",
    "\n",
    "# Train and evaluate Logistic Regression with different solvers\n",
    "for solver in solvers:\n",
    "    try:\n",
    "        model = LogisticRegression(solver=solver, max_iter=1000)\n",
    "        model.fit(X_train_scaled, y_train)\n",
    "        y_pred = model.predict(X_test_scaled)\n",
    "        accuracy = accuracy_score(y_test, y_pred)\n",
    "        results[solver] = accuracy\n",
    "    except Exception as e:\n",
    "        results[solver] = f\"Error: {e}\"\n",
    "\n",
    "# Display results\n",
    "print(\"Accuracy comparison of different solvers:\\n\")\n",
    "for solver, result in results.items():\n",
    "    print(f\"Solver: {solver} -> Accuracy: {round(result * 100, 2)}%\" if isinstance(result, float) else f\"Solver: {solver} -> {result}\")\n"
   ]
  },
  {
   "cell_type": "code",
   "execution_count": null,
   "id": "bf78a8c7-9fb7-4988-a752-2e0d6adb070b",
   "metadata": {},
   "outputs": [],
   "source": [
    "22. Write a Python program to train Logistic Regression and evaluate its performance using Matthews Correlation Coefficient (MCC)."
   ]
  },
  {
   "cell_type": "code",
   "execution_count": 95,
   "id": "5c5d693e-9b94-4ca1-9bad-ba2592383329",
   "metadata": {},
   "outputs": [
    {
     "name": "stdout",
     "output_type": "stream",
     "text": [
      "Matthews Correlation Coefficient (MCC): 0.9439\n"
     ]
    }
   ],
   "source": [
    "import numpy as np\n",
    "from sklearn.datasets import load_breast_cancer\n",
    "from sklearn.linear_model import LogisticRegression\n",
    "from sklearn.model_selection import train_test_split\n",
    "from sklearn.preprocessing import StandardScaler\n",
    "from sklearn.metrics import matthews_corrcoef\n",
    "\n",
    "# Load dataset (binary classification)\n",
    "data = load_breast_cancer()\n",
    "X = data.data\n",
    "y = data.target\n",
    "\n",
    "# Split into train and test\n",
    "X_train, X_test, y_train, y_test = train_test_split(X, y, test_size=0.2, random_state=42)\n",
    "\n",
    "# Standardize features\n",
    "scaler = StandardScaler()\n",
    "X_train_scaled = scaler.fit_transform(X_train)\n",
    "X_test_scaled = scaler.transform(X_test)\n",
    "\n",
    "# Train Logistic Regression model\n",
    "model = LogisticRegression(max_iter=1000)\n",
    "model.fit(X_train_scaled, y_train)\n",
    "\n",
    "# Predict on test set\n",
    "y_pred = model.predict(X_test_scaled)\n",
    "\n",
    "# Calculate MCC\n",
    "mcc = matthews_corrcoef(y_test, y_pred)\n",
    "\n",
    "# Display result\n",
    "print(\"Matthews Correlation Coefficient (MCC):\", round(mcc, 4))\n"
   ]
  },
  {
   "cell_type": "code",
   "execution_count": null,
   "id": "bcedc95b-69b0-4d23-8790-c92cdc4d7dfe",
   "metadata": {},
   "outputs": [],
   "source": [
    "23. Write a Python program to train Logistic Regression on both raw and standardized data. Compare their accuracy to see the impact of feature scaling"
   ]
  },
  {
   "cell_type": "code",
   "execution_count": 97,
   "id": "4c74899a-92d2-4e3f-afb8-11c73dc3722e",
   "metadata": {},
   "outputs": [
    {
     "name": "stdout",
     "output_type": "stream",
     "text": [
      "Accuracy on raw data: 95.61%\n",
      "Accuracy on standardized data: 97.37%\n"
     ]
    }
   ],
   "source": [
    "from sklearn.datasets import load_breast_cancer\n",
    "from sklearn.linear_model import LogisticRegression\n",
    "from sklearn.model_selection import train_test_split\n",
    "from sklearn.preprocessing import StandardScaler\n",
    "from sklearn.metrics import accuracy_score\n",
    "\n",
    "# Load the dataset\n",
    "data = load_breast_cancer()\n",
    "X = data.data\n",
    "y = data.target\n",
    "\n",
    "# Split into train and test sets\n",
    "X_train_raw, X_test_raw, y_train, y_test = train_test_split(X, y, test_size=0.2, random_state=42)\n",
    "\n",
    "# Train on raw (unscaled) data\n",
    "model_raw = LogisticRegression(max_iter=1000)\n",
    "model_raw.fit(X_train_raw, y_train)\n",
    "y_pred_raw = model_raw.predict(X_test_raw)\n",
    "accuracy_raw = accuracy_score(y_test, y_pred_raw)\n",
    "\n",
    "# Standardize the features\n",
    "scaler = StandardScaler()\n",
    "X_train_scaled = scaler.fit_transform(X_train_raw)\n",
    "X_test_scaled = scaler.transform(X_test_raw)\n",
    "\n",
    "# Train on standardized (scaled) data\n",
    "model_scaled = LogisticRegression(max_iter=1000)\n",
    "model_scaled.fit(X_train_scaled, y_train)\n",
    "y_pred_scaled = model_scaled.predict(X_test_scaled)\n",
    "accuracy_scaled = accuracy_score(y_test, y_pred_scaled)\n",
    "\n",
    "# Print results\n",
    "print(\"Accuracy on raw data: {:.2f}%\".format(accuracy_raw * 100))\n",
    "print(\"Accuracy on standardized data: {:.2f}%\".format(accuracy_scaled * 100))\n"
   ]
  },
  {
   "cell_type": "code",
   "execution_count": null,
   "id": "942b0266-0013-4361-bd61-0fce3ae0359e",
   "metadata": {},
   "outputs": [],
   "source": [
    "24. Write a Python program to train Logistic Regression and find the optimal C (regularization strength) using cross-validation."
   ]
  },
  {
   "cell_type": "code",
   "execution_count": 99,
   "id": "30faad1c-87a6-426a-a57c-0f7d95ef4384",
   "metadata": {},
   "outputs": [
    {
     "name": "stdout",
     "output_type": "stream",
     "text": [
      "Best C value from cross-validation: 0.046415888336127774\n",
      "Test set accuracy with best C: 100.00%\n"
     ]
    }
   ],
   "source": [
    "import numpy as np\n",
    "from sklearn.datasets import load_wine\n",
    "from sklearn.linear_model import LogisticRegression\n",
    "from sklearn.model_selection import GridSearchCV, train_test_split\n",
    "from sklearn.preprocessing import StandardScaler\n",
    "from sklearn.metrics import accuracy_score\n",
    "\n",
    "# Load Wine dataset\n",
    "data = load_wine()\n",
    "X = data.data\n",
    "y = data.target\n",
    "\n",
    "# Split dataset into train and test sets\n",
    "X_train, X_test, y_train, y_test = train_test_split(X, y, test_size=0.2, random_state=42)\n",
    "\n",
    "# Standardize features\n",
    "scaler = StandardScaler()\n",
    "X_train_scaled = scaler.fit_transform(X_train)\n",
    "X_test_scaled = scaler.transform(X_test)\n",
    "\n",
    "# Initialize Logistic Regression model\n",
    "log_reg = LogisticRegression(max_iter=1000, multi_class='ovr')\n",
    "\n",
    "# Hyperparameter grid for C (regularization strength)\n",
    "param_grid = {'C': np.logspace(-4, 4, 10)}\n",
    "\n",
    "# Grid search with 5-fold cross-validation\n",
    "grid_search = GridSearchCV(log_reg, param_grid, cv=5)\n",
    "grid_search.fit(X_train_scaled, y_train)\n",
    "\n",
    "# Make predictions on test set\n",
    "y_pred = grid_search.predict(X_test_scaled)\n",
    "\n",
    "# Calculate accuracy\n",
    "accuracy = accuracy_score(y_test, y_pred)\n",
    "\n",
    "print(\"Best C value from cross-validation:\", grid_search.best_params_['C'])\n",
    "print(\"Test set accuracy with best C: {:.2f}%\".format(accuracy * 100))\n"
   ]
  },
  {
   "cell_type": "code",
   "execution_count": null,
   "id": "6d116ce7-ba57-4039-ba9c-c0f47676a18f",
   "metadata": {},
   "outputs": [],
   "source": [
    "25. Write a Python program to train Logistic Regression, save the trained model using joblib, and load it again to make predictions."
   ]
  },
  {
   "cell_type": "code",
   "execution_count": 101,
   "id": "27714b14-96d4-46f3-bba0-479e6f31251a",
   "metadata": {},
   "outputs": [
    {
     "name": "stdout",
     "output_type": "stream",
     "text": [
      "Model saved successfully.\n",
      "Model loaded successfully.\n",
      "Accuracy of loaded model: 97.37%\n"
     ]
    }
   ],
   "source": [
    "import numpy as np\n",
    "from sklearn.datasets import load_breast_cancer\n",
    "from sklearn.linear_model import LogisticRegression\n",
    "from sklearn.model_selection import train_test_split\n",
    "from sklearn.preprocessing import StandardScaler\n",
    "from sklearn.metrics import accuracy_score\n",
    "import joblib\n",
    "\n",
    "# Load dataset\n",
    "data = load_breast_cancer()\n",
    "X = data.data\n",
    "y = data.target\n",
    "\n",
    "# Split dataset\n",
    "X_train, X_test, y_train, y_test = train_test_split(X, y, test_size=0.2, random_state=42)\n",
    "\n",
    "# Scale features\n",
    "scaler = StandardScaler()\n",
    "X_train_scaled = scaler.fit_transform(X_train)\n",
    "X_test_scaled = scaler.transform(X_test)\n",
    "\n",
    "# Train Logistic Regression model\n",
    "model = LogisticRegression(max_iter=1000)\n",
    "model.fit(X_train_scaled, y_train)\n",
    "\n",
    "# Save the trained model to a file\n",
    "joblib.dump(model, 'logistic_model.joblib')\n",
    "print(\"Model saved successfully.\")\n",
    "\n",
    "# Load the model from the file\n",
    "loaded_model = joblib.load('logistic_model.joblib')\n",
    "print(\"Model loaded successfully.\")\n",
    "\n",
    "# Predict using the loaded model\n",
    "y_pred = loaded_model.predict(X_test_scaled)\n",
    "\n",
    "# Evaluate accuracy\n",
    "accuracy = accuracy_score(y_test, y_pred)\n",
    "print(f\"Accuracy of loaded model: {accuracy * 100:.2f}%\")\n"
   ]
  },
  {
   "cell_type": "code",
   "execution_count": null,
   "id": "d54528a7-b4fb-4c0c-bf21-c89f18c2f9bb",
   "metadata": {},
   "outputs": [],
   "source": []
  },
  {
   "cell_type": "code",
   "execution_count": null,
   "id": "5d43aba2-1c96-46c2-8da8-c669746d9c5b",
   "metadata": {},
   "outputs": [],
   "source": []
  },
  {
   "cell_type": "code",
   "execution_count": null,
   "id": "02cdf31a-2743-4151-910b-46552ba49fbb",
   "metadata": {},
   "outputs": [],
   "source": []
  },
  {
   "cell_type": "code",
   "execution_count": null,
   "id": "68f76dfa-1065-4661-99a6-5afe5b961bba",
   "metadata": {},
   "outputs": [],
   "source": []
  },
  {
   "cell_type": "code",
   "execution_count": null,
   "id": "95c1e055-6abd-46ac-8c8d-d62c702b3a70",
   "metadata": {},
   "outputs": [],
   "source": []
  },
  {
   "cell_type": "code",
   "execution_count": null,
   "id": "1043b919-04e1-497a-8847-23cc67edfe65",
   "metadata": {},
   "outputs": [],
   "source": []
  },
  {
   "cell_type": "code",
   "execution_count": null,
   "id": "4e718596-ce63-4763-bd00-d5f441efedcb",
   "metadata": {},
   "outputs": [],
   "source": []
  },
  {
   "cell_type": "code",
   "execution_count": null,
   "id": "19a63aa3-8f97-4699-8c9b-34efa6a6aade",
   "metadata": {},
   "outputs": [],
   "source": []
  }
 ],
 "metadata": {
  "kernelspec": {
   "display_name": "Python 3 (ipykernel)",
   "language": "python",
   "name": "python3"
  },
  "language_info": {
   "codemirror_mode": {
    "name": "ipython",
    "version": 3
   },
   "file_extension": ".py",
   "mimetype": "text/x-python",
   "name": "python",
   "nbconvert_exporter": "python",
   "pygments_lexer": "ipython3",
   "version": "3.12.7"
  }
 },
 "nbformat": 4,
 "nbformat_minor": 5
}
